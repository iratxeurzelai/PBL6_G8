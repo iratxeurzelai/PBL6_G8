{
 "cells": [
  {
   "cell_type": "markdown",
   "metadata": {},
   "source": [
    "# MUTRITION RECOMMENDER SYSTEM"
   ]
  },
  {
   "cell_type": "code",
   "execution_count": 1,
   "metadata": {},
   "outputs": [],
   "source": [
    "import pandas as pd\n",
    "from sklearn.metrics.pairwise import cosine_similarity\n",
    "import numpy as np\n",
    "from typing import Dict, List, Optional\n",
    "import warnings\n",
    "warnings.filterwarnings('ignore')\n",
    "\n",
    "usuariosDF = pd.read_csv('userPreferences.csv')\n",
    "usuariosDF.drop('Unnamed: 0', axis=1, inplace=True)\n",
    "\n",
    "recetasDF = pd.read_csv('Recetas_procesadas.csv')\n",
    "recetasDF = recetasDF[['title', 'calories', 'protein', 'fat', 'sodium']]"
   ]
  },
  {
   "cell_type": "code",
   "execution_count": 2,
   "metadata": {},
   "outputs": [],
   "source": [
    "dfmixta = usuariosDF.merge(recetasDF, on='title')"
   ]
  },
  {
   "cell_type": "markdown",
   "metadata": {},
   "source": [
    "Buscar los 50 usuarios más parecidos a ti. Crear una tuple (index, similarity_score), luego ordenamos los ususarios por el similarity_score y nos quedamos solo con lso primeros 50."
   ]
  },
  {
   "cell_type": "code",
   "execution_count": 24,
   "metadata": {},
   "outputs": [],
   "source": [
    "userinfo={\"peso\":[80], \"altura\":  [160]}\n",
    "dt=pd.DataFrame(userinfo)\n",
    "user_sim_score=cosine_similarity(dt, usuariosDF[['peso', 'altura']])\n",
    "user_sim_score=user_sim_score[0]\n",
    "\n",
    "users_sim_score_tuple: List[tuple] = []\n",
    "i = 0\n",
    "for x in user_sim_score:\n",
    "    users_sim_score_tuple.append((i, x))\n",
    "    i+=1\n",
    "\n",
    "sorted_by_score = sorted(users_sim_score_tuple, key=lambda tup: tup[1], reverse=True)\n",
    "top_50 = sorted_by_score[:50]\n",
    "#user_sim_score[::-1].sort()"
   ]
  },
  {
   "cell_type": "markdown",
   "metadata": {},
   "source": [
    "# Buscar las receteas que han recomendado esos usuarios.\n",
    "En la lista top_50, tenemos una tuple(index, sim_score), ahora crearemos un dataset que vincule basandose en el index la lista top_50 con la dfmixta que es la que contiene las recetas que ha recomendado cada usuario. "
   ]
  },
  {
   "cell_type": "code",
   "execution_count": 25,
   "metadata": {},
   "outputs": [
    {
     "data": {
      "text/html": [
       "<div>\n",
       "<style scoped>\n",
       "    .dataframe tbody tr th:only-of-type {\n",
       "        vertical-align: middle;\n",
       "    }\n",
       "\n",
       "    .dataframe tbody tr th {\n",
       "        vertical-align: top;\n",
       "    }\n",
       "\n",
       "    .dataframe thead th {\n",
       "        text-align: right;\n",
       "    }\n",
       "</style>\n",
       "<table border=\"1\" class=\"dataframe\">\n",
       "  <thead>\n",
       "    <tr style=\"text-align: right;\">\n",
       "      <th></th>\n",
       "      <th>peso</th>\n",
       "      <th>altura</th>\n",
       "      <th>title</th>\n",
       "      <th>calories</th>\n",
       "      <th>protein</th>\n",
       "      <th>fat</th>\n",
       "      <th>sodium</th>\n",
       "    </tr>\n",
       "  </thead>\n",
       "  <tbody>\n",
       "    <tr>\n",
       "      <th>1326</th>\n",
       "      <td>100</td>\n",
       "      <td>194</td>\n",
       "      <td>Turkey Giblet Stock</td>\n",
       "      <td>119.0</td>\n",
       "      <td>17.0</td>\n",
       "      <td>5.0</td>\n",
       "      <td>150.0</td>\n",
       "    </tr>\n",
       "    <tr>\n",
       "      <th>1593</th>\n",
       "      <td>85</td>\n",
       "      <td>179</td>\n",
       "      <td>Chicken Crepes with Asparagus and Mushrooms</td>\n",
       "      <td>427.0</td>\n",
       "      <td>20.0</td>\n",
       "      <td>29.0</td>\n",
       "      <td>315.0</td>\n",
       "    </tr>\n",
       "    <tr>\n",
       "      <th>115</th>\n",
       "      <td>76</td>\n",
       "      <td>169</td>\n",
       "      <td>Chicken Stock</td>\n",
       "      <td>41.0</td>\n",
       "      <td>3.0</td>\n",
       "      <td>3.0</td>\n",
       "      <td>81.0</td>\n",
       "    </tr>\n",
       "    <tr>\n",
       "      <th>282</th>\n",
       "      <td>55</td>\n",
       "      <td>151</td>\n",
       "      <td>Roast Turkey with Herbed Bread Stuffing and Gi...</td>\n",
       "      <td>2165.0</td>\n",
       "      <td>312.0</td>\n",
       "      <td>90.0</td>\n",
       "      <td>2000.0</td>\n",
       "    </tr>\n",
       "    <tr>\n",
       "      <th>503</th>\n",
       "      <td>85</td>\n",
       "      <td>196</td>\n",
       "      <td>Panna Cotta with Crushed Raspberry Sauce</td>\n",
       "      <td>329.0</td>\n",
       "      <td>4.0</td>\n",
       "      <td>20.0</td>\n",
       "      <td>31.0</td>\n",
       "    </tr>\n",
       "  </tbody>\n",
       "</table>\n",
       "</div>"
      ],
      "text/plain": [
       "      peso  altura                                              title  \\\n",
       "1326   100     194                               Turkey Giblet Stock    \n",
       "1593    85     179       Chicken Crepes with Asparagus and Mushrooms    \n",
       "115     76     169                                     Chicken Stock    \n",
       "282     55     151  Roast Turkey with Herbed Bread Stuffing and Gi...   \n",
       "503     85     196          Panna Cotta with Crushed Raspberry Sauce    \n",
       "\n",
       "      calories  protein   fat  sodium  \n",
       "1326     119.0     17.0   5.0   150.0  \n",
       "1593     427.0     20.0  29.0   315.0  \n",
       "115       41.0      3.0   3.0    81.0  \n",
       "282     2165.0    312.0  90.0  2000.0  \n",
       "503      329.0      4.0  20.0    31.0  "
      ]
     },
     "execution_count": 25,
     "metadata": {},
     "output_type": "execute_result"
    }
   ],
   "source": [
    "recomendationDF = pd.DataFrame()\n",
    "for i in top_50:\n",
    "    recomendationDF = recomendationDF.append(dfmixta.iloc[i[0]])\n",
    "recomendationDF.head(5)"
   ]
  },
  {
   "cell_type": "markdown",
   "metadata": {},
   "source": [
    "Codificar el texto para que encuentre similitudes"
   ]
  },
  {
   "cell_type": "code",
   "execution_count": 5,
   "metadata": {},
   "outputs": [
    {
     "data": {
      "text/plain": [
       "(50, 177)"
      ]
     },
     "execution_count": 5,
     "metadata": {},
     "output_type": "execute_result"
    }
   ],
   "source": [
    "#Importing TfIdfVectorizer from scikit-learn\n",
    "from sklearn.feature_extraction.text import TfidfVectorizer\n",
    "\n",
    "#Defining a TF-IDF Vectorizer Object. Remove all english stop words such as 'the', 'a'\n",
    "tfidf = TfidfVectorizer(stop_words='english')\n",
    "\n",
    "#Constructing the required TF-IDF matrix by fitting and transforming the data\n",
    "tfidf_matrix = tfidf.fit_transform(recomendationDF['title'])\n",
    "\n",
    "#Output the shape of tfidf_matrix\n",
    "tfidf_matrix = tfidf.fit_transform(recomendationDF['title'])\n",
    "\n",
    "tfidf_matrix.shape"
   ]
  },
  {
   "cell_type": "markdown",
   "metadata": {},
   "source": [
    "Calcular la matriz de cosine similarity de las 50 ceteas con la intencion de recomendar la receta que se asimila más con las demas."
   ]
  },
  {
   "cell_type": "code",
   "execution_count": 6,
   "metadata": {},
   "outputs": [
    {
     "data": {
      "text/plain": [
       "array([0.42648   , 0.2332431 , 1.        , 0.        , 0.        ,\n",
       "       0.28751009, 0.        , 0.20536708, 0.        , 0.        ,\n",
       "       0.180641  , 0.        , 0.        , 0.        , 0.        ,\n",
       "       0.        , 0.        , 0.        , 0.        , 0.        ,\n",
       "       1.        , 0.26933486, 0.        , 0.        , 0.        ,\n",
       "       0.        , 0.        , 0.        , 0.        , 0.        ,\n",
       "       0.        , 0.        , 0.        , 0.        , 0.        ,\n",
       "       0.        , 0.        , 0.        , 0.        , 0.        ,\n",
       "       0.        , 0.        , 0.        , 0.        , 0.        ,\n",
       "       0.        , 0.        , 0.        , 0.        , 0.        ])"
      ]
     },
     "execution_count": 6,
     "metadata": {},
     "output_type": "execute_result"
    }
   ],
   "source": [
    "# Importing linear_kernel\n",
    "from sklearn.metrics.pairwise import linear_kernel\n",
    "\n",
    "# Computing the cosine similarity matrix\n",
    "cosine_sim = linear_kernel(tfidf_matrix, tfidf_matrix)\n",
    "\n",
    "cosine_sim[2] # cosine similarity de la receta [2] comparada con el resto."
   ]
  },
  {
   "cell_type": "code",
   "execution_count": 7,
   "metadata": {},
   "outputs": [
    {
     "data": {
      "text/plain": [
       "0.42647999733984837"
      ]
     },
     "execution_count": 7,
     "metadata": {},
     "output_type": "execute_result"
    }
   ],
   "source": [
    "cosine_sim[2][0] # receta [2] comparada con la [0]"
   ]
  },
  {
   "cell_type": "markdown",
   "metadata": {},
   "source": [
    "Recorrer la matriz y sumar todos los valores, la receta que tenga la mayor suma de cosine similarity sera la que se recomiende."
   ]
  },
  {
   "cell_type": "code",
   "execution_count": 9,
   "metadata": {},
   "outputs": [
    {
     "name": "stdout",
     "output_type": "stream",
     "text": [
      "2\n"
     ]
    }
   ],
   "source": [
    "indexLaMejor = 0\n",
    "mejorResultado = 0.0\n",
    "actual = 0.0\n",
    "\n",
    "for i in range (0, 50):\n",
    "    for j in range(0, 50):\n",
    "        actual+=cosine_sim[i,j]\n",
    "    if actual > mejorResultado:\n",
    "        mejorResultado=actual\n",
    "        indexLaMejor=i\n",
    "        actual=0\n",
    "    else:\n",
    "        actual=0.0\n",
    "print(indexLaMejor)"
   ]
  },
  {
   "cell_type": "markdown",
   "metadata": {},
   "source": [
    "Ahora recoger la receta buscando por el index en el datframe de recomendaciones (que contiene la recomendacion de los top 50 usuarios mas parecidos a ti)"
   ]
  },
  {
   "cell_type": "code",
   "execution_count": 42,
   "metadata": {},
   "outputs": [
    {
     "data": {
      "text/plain": [
       "<bound method DataFrame.iterrows of      peso  altura           title  calories  protein  fat  sodium\n",
       "115    76     169  Chicken Stock       41.0      3.0  3.0    81.0>"
      ]
     },
     "execution_count": 42,
     "metadata": {},
     "output_type": "execute_result"
    }
   ],
   "source": [
    "receta_recomendar=recomendationDF[indexLaMejor:indexLaMejor+1]\n",
    "recetaFinal=receta_recomendar.iterrows\n",
    "recetaFinal"
   ]
  },
  {
   "cell_type": "code",
   "execution_count": null,
   "metadata": {},
   "outputs": [],
   "source": [
    "def get_recomendation(peso, altura, user_sim_matrix):\n",
    "    similar_user = list(enumerate(user_sim_matrix[3]))\n",
    "    #Getting the index of the movie given its title\n",
    "    idx=indices[title]\n",
    "    #Getting the list of cosine similarity scores\n",
    "    sim_scores=list(enumerate(cosine_similarity[idx]))\n",
    "    #sorting based on sim_score\n",
    "    sim_scores=sorted(sim_scores,key=lambda x:x[1],reverse=True)\n",
    "    # Getting the scores of the 10 most similar movies\n",
    "    sim_scores = sim_scores[1:11]\n",
    "    #Getting the  movies indices \n",
    "    sim_scores=[i[0] for i in sim_scores]\n",
    "     \n",
    "    return movies['original_title'].iloc[sim_scores]"
   ]
  }
 ],
 "metadata": {
  "interpreter": {
   "hash": "369f2c481f4da34e4445cda3fffd2e751bd1c4d706f27375911949ba6bb62e1c"
  },
  "kernelspec": {
   "display_name": "Python 3.10.3 64-bit",
   "language": "python",
   "name": "python3"
  },
  "language_info": {
   "codemirror_mode": {
    "name": "ipython",
    "version": 3
   },
   "file_extension": ".py",
   "mimetype": "text/x-python",
   "name": "python",
   "nbconvert_exporter": "python",
   "pygments_lexer": "ipython3",
   "version": "3.10.3"
  },
  "orig_nbformat": 4
 },
 "nbformat": 4,
 "nbformat_minor": 2
}
