{
 "cells": [
  {
   "cell_type": "markdown",
   "metadata": {},
   "source": [
    "# MUTRITION RECOMMENDER SYSTEM"
   ]
  },
  {
   "cell_type": "code",
   "execution_count": 1,
   "metadata": {},
   "outputs": [],
   "source": [
    "import pandas as pd\n",
    "from sklearn.metrics.pairwise import cosine_similarity\n",
    "import numpy as np\n",
    "from typing import Dict, List, Optional\n",
    "import warnings\n",
    "warnings.filterwarnings('ignore')\n",
    "\n",
    "usuariosDF = pd.read_csv('userPreferences.csv')\n",
    "usuariosDF.drop('Unnamed: 0', axis=1, inplace=True)\n",
    "\n",
    "recetasDF = pd.read_csv('Recetas_procesadas.csv')\n",
    "recetasDF = recetasDF[['title', 'calories', 'protein', 'fat', 'sodium']]"
   ]
  },
  {
   "cell_type": "code",
   "execution_count": 2,
   "metadata": {},
   "outputs": [],
   "source": [
    "dfmixta = usuariosDF.merge(recetasDF, on='title')"
   ]
  },
  {
   "cell_type": "markdown",
   "metadata": {},
   "source": [
    "Buscar los 50 usuarios más parecidos a ti. Crear una tuple (index, similarity_score), luego ordenamos los ususarios por el similarity_score y nos quedamos solo con lso primeros 50."
   ]
  },
  {
   "cell_type": "code",
   "execution_count": 3,
   "metadata": {},
   "outputs": [],
   "source": [
    "userinfo={\"peso\":[80], \"altura\":  [160]}\n",
    "dt=pd.DataFrame(userinfo)\n",
    "user_sim_score=cosine_similarity(dt, usuariosDF[['peso', 'altura']])\n",
    "user_sim_score=user_sim_score[0]\n",
    "\n",
    "users_sim_score_tuple: List[tuple] = []\n",
    "i = 0\n",
    "for x in user_sim_score:\n",
    "    users_sim_score_tuple.append((i, x))\n",
    "    i+=1\n",
    "\n",
    "sorted_by_score = sorted(users_sim_score_tuple, key=lambda tup: tup[1], reverse=True)\n",
    "top_50 = sorted_by_score[:50]\n",
    "#user_sim_score[::-1].sort()"
   ]
  },
  {
   "cell_type": "markdown",
   "metadata": {},
   "source": [
    "# Buscar las receteas que han recomendado esos usuarios.\n",
    "En la lista top_50, tenemos una tuple(index, sim_score), ahora crearemos un dataset que vincule basandose en el index la lista top_50 con la dfmixta que es la que contiene las recetas que ha recomendado cada usuario. "
   ]
  },
  {
   "cell_type": "code",
   "execution_count": 4,
   "metadata": {},
   "outputs": [
    {
     "data": {
      "text/html": [
       "<div>\n",
       "<style scoped>\n",
       "    .dataframe tbody tr th:only-of-type {\n",
       "        vertical-align: middle;\n",
       "    }\n",
       "\n",
       "    .dataframe tbody tr th {\n",
       "        vertical-align: top;\n",
       "    }\n",
       "\n",
       "    .dataframe thead th {\n",
       "        text-align: right;\n",
       "    }\n",
       "</style>\n",
       "<table border=\"1\" class=\"dataframe\">\n",
       "  <thead>\n",
       "    <tr style=\"text-align: right;\">\n",
       "      <th></th>\n",
       "      <th>peso</th>\n",
       "      <th>altura</th>\n",
       "      <th>title</th>\n",
       "      <th>calories</th>\n",
       "      <th>protein</th>\n",
       "      <th>fat</th>\n",
       "      <th>sodium</th>\n",
       "    </tr>\n",
       "  </thead>\n",
       "  <tbody>\n",
       "    <tr>\n",
       "      <th>27</th>\n",
       "      <td>83</td>\n",
       "      <td>151</td>\n",
       "      <td>Stuffed Sweet Potatoes</td>\n",
       "      <td>254.0</td>\n",
       "      <td>6.0</td>\n",
       "      <td>13.0</td>\n",
       "      <td>486.0</td>\n",
       "    </tr>\n",
       "    <tr>\n",
       "      <th>55</th>\n",
       "      <td>57</td>\n",
       "      <td>177</td>\n",
       "      <td>Roasted Bell Pepper Salad with Pine Nuts</td>\n",
       "      <td>96.0</td>\n",
       "      <td>2.0</td>\n",
       "      <td>7.0</td>\n",
       "      <td>5.0</td>\n",
       "    </tr>\n",
       "    <tr>\n",
       "      <th>1131</th>\n",
       "      <td>94</td>\n",
       "      <td>199</td>\n",
       "      <td>Chocolate-Cherry Ice Cream Pie with Hot Fudge ...</td>\n",
       "      <td>658.0</td>\n",
       "      <td>7.0</td>\n",
       "      <td>39.0</td>\n",
       "      <td>209.0</td>\n",
       "    </tr>\n",
       "    <tr>\n",
       "      <th>1552</th>\n",
       "      <td>68</td>\n",
       "      <td>186</td>\n",
       "      <td>Portobello Mushrooms Stuffed with Parmesan Whi...</td>\n",
       "      <td>297.0</td>\n",
       "      <td>13.0</td>\n",
       "      <td>13.0</td>\n",
       "      <td>309.0</td>\n",
       "    </tr>\n",
       "    <tr>\n",
       "      <th>1591</th>\n",
       "      <td>97</td>\n",
       "      <td>197</td>\n",
       "      <td>Raspberry Sorbet</td>\n",
       "      <td>246.0</td>\n",
       "      <td>1.0</td>\n",
       "      <td>1.0</td>\n",
       "      <td>2.0</td>\n",
       "    </tr>\n",
       "  </tbody>\n",
       "</table>\n",
       "</div>"
      ],
      "text/plain": [
       "      peso  altura                                              title  \\\n",
       "27      83     151                            Stuffed Sweet Potatoes    \n",
       "55      57     177          Roasted Bell Pepper Salad with Pine Nuts    \n",
       "1131    94     199  Chocolate-Cherry Ice Cream Pie with Hot Fudge ...   \n",
       "1552    68     186  Portobello Mushrooms Stuffed with Parmesan Whi...   \n",
       "1591    97     197                                  Raspberry Sorbet    \n",
       "\n",
       "      calories  protein   fat  sodium  \n",
       "27       254.0      6.0  13.0   486.0  \n",
       "55        96.0      2.0   7.0     5.0  \n",
       "1131     658.0      7.0  39.0   209.0  \n",
       "1552     297.0     13.0  13.0   309.0  \n",
       "1591     246.0      1.0   1.0     2.0  "
      ]
     },
     "execution_count": 4,
     "metadata": {},
     "output_type": "execute_result"
    }
   ],
   "source": [
    "recomendationDF = pd.DataFrame()\n",
    "for i in top_50:\n",
    "    recomendationDF = recomendationDF.append(dfmixta.iloc[i[0]])\n",
    "recomendationDF.head(5)"
   ]
  },
  {
   "cell_type": "markdown",
   "metadata": {},
   "source": [
    "Codificar el texto para que encuentre similitudes"
   ]
  },
  {
   "cell_type": "code",
   "execution_count": 5,
   "metadata": {},
   "outputs": [
    {
     "data": {
      "text/plain": [
       "(50, 160)"
      ]
     },
     "execution_count": 5,
     "metadata": {},
     "output_type": "execute_result"
    }
   ],
   "source": [
    "#Importing TfIdfVectorizer from scikit-learn\n",
    "from sklearn.feature_extraction.text import TfidfVectorizer\n",
    "\n",
    "#Defining a TF-IDF Vectorizer Object. Remove all english stop words such as 'the', 'a'\n",
    "tfidf = TfidfVectorizer(stop_words='english')\n",
    "\n",
    "#Constructing the required TF-IDF matrix by fitting and transforming the data\n",
    "tfidf_matrix = tfidf.fit_transform(recomendationDF['title'])\n",
    "\n",
    "#Output the shape of tfidf_matrix\n",
    "tfidf_matrix = tfidf.fit_transform(recomendationDF['title'])\n",
    "\n",
    "tfidf_matrix.shape"
   ]
  },
  {
   "cell_type": "markdown",
   "metadata": {},
   "source": [
    "Calcular la matriz de cosine similarity de las 50 ceteas con la intencion de recomendar la receta que se asimila más con las demas."
   ]
  },
  {
   "cell_type": "code",
   "execution_count": 6,
   "metadata": {},
   "outputs": [
    {
     "data": {
      "text/plain": [
       "array([0.        , 0.        , 1.        , 0.        , 0.        ,\n",
       "       0.        , 0.13672099, 0.13672099, 0.        , 0.        ,\n",
       "       0.        , 0.        , 0.        , 0.        , 0.        ,\n",
       "       0.        , 0.        , 0.        , 0.        , 0.        ,\n",
       "       0.        , 0.        , 0.08750765, 0.        , 0.        ,\n",
       "       0.        , 0.        , 0.        , 0.        , 0.        ,\n",
       "       0.09643385, 0.        , 0.        , 0.        , 0.        ,\n",
       "       0.        , 0.        , 0.        , 0.        , 0.        ,\n",
       "       0.        , 0.        , 0.        , 0.        , 0.        ,\n",
       "       0.13310429, 0.28713219, 0.        , 0.        , 0.15048165])"
      ]
     },
     "execution_count": 6,
     "metadata": {},
     "output_type": "execute_result"
    }
   ],
   "source": [
    "# Importing linear_kernel\n",
    "from sklearn.metrics.pairwise import linear_kernel\n",
    "\n",
    "# Computing the cosine similarity matrix\n",
    "cosine_sim = linear_kernel(tfidf_matrix, tfidf_matrix)\n",
    "\n",
    "cosine_sim[2] # cosine similarity de la receta [2] comparada con el resto."
   ]
  },
  {
   "cell_type": "code",
   "execution_count": 7,
   "metadata": {},
   "outputs": [
    {
     "data": {
      "text/plain": [
       "0.0"
      ]
     },
     "execution_count": 7,
     "metadata": {},
     "output_type": "execute_result"
    }
   ],
   "source": [
    "cosine_sim[2][0] # receta [2] comparada con la [0]"
   ]
  },
  {
   "cell_type": "markdown",
   "metadata": {},
   "source": [
    "Recorrer la matriz y sumar todos los valores, la receta que tenga la mayor suma de cosine similarity sera la que se recomiende."
   ]
  },
  {
   "cell_type": "code",
   "execution_count": 8,
   "metadata": {},
   "outputs": [
    {
     "name": "stdout",
     "output_type": "stream",
     "text": [
      "22\n"
     ]
    }
   ],
   "source": [
    "indexLaMejor = 0\n",
    "mejorResultado = 0.0\n",
    "actual = 0.0\n",
    "\n",
    "for i in range (0, 50):\n",
    "    for j in range(0, 50):\n",
    "        actual+=cosine_sim[i,j]\n",
    "    if actual > mejorResultado:\n",
    "        mejorResultado=actual\n",
    "        indexLaMejor=i\n",
    "        actual=0\n",
    "    else:\n",
    "        actual=0.0\n",
    "print(indexLaMejor)"
   ]
  },
  {
   "cell_type": "code",
   "execution_count": 23,
   "metadata": {},
   "outputs": [
    {
     "data": {
      "text/plain": [
       "30"
      ]
     },
     "execution_count": 23,
     "metadata": {},
     "output_type": "execute_result"
    }
   ],
   "source": [
    "similar_food = list(enumerate(cosine_sim[indexLaMejor]))\n",
    "sorted_similar_food = sorted(similar_food, key=lambda x:x[1], reverse=True)\n",
    "segundaRecetaIndex = sorted_similar_food[1][0]\n",
    "segundaRecetaIndex"
   ]
  },
  {
   "cell_type": "markdown",
   "metadata": {},
   "source": [
    "Ahora recoger la receta buscando por el index en el datframe de recomendaciones (que contiene la recomendacion de los top 50 usuarios mas parecidos a ti)"
   ]
  },
  {
   "cell_type": "code",
   "execution_count": 16,
   "metadata": {},
   "outputs": [],
   "source": [
    "receta_recomendar=recomendationDF[indexLaMejor:indexLaMejor+1]\n",
    "recetaNP=receta_recomendar.to_numpy() #conertirlo a numpy\n",
    "recetaList = recetaNP.tolist() #pasarlo a lista"
   ]
  },
  {
   "cell_type": "code",
   "execution_count": 26,
   "metadata": {},
   "outputs": [
    {
     "name": "stdout",
     "output_type": "stream",
     "text": [
      "[[68, 165, 'Grilled Lemon Chicken Salad with Dill Cream Dressing ', 617.0, 49.0, 37.0, 307.0], [[87, 192, 'Cream Cheese-Lemon Zest Frosting ', 293.0, 2.0, 23.0, 140.0]]]\n"
     ]
    }
   ],
   "source": [
    "segunda=recomendationDF[segundaRecetaIndex:segundaRecetaIndex+1].to_numpy().tolist()\n",
    "recetaList.append(segunda)\n",
    "print(recetaList)"
   ]
  }
 ],
 "metadata": {
  "interpreter": {
   "hash": "369f2c481f4da34e4445cda3fffd2e751bd1c4d706f27375911949ba6bb62e1c"
  },
  "kernelspec": {
   "display_name": "Python 3.10.3 64-bit",
   "language": "python",
   "name": "python3"
  },
  "language_info": {
   "codemirror_mode": {
    "name": "ipython",
    "version": 3
   },
   "file_extension": ".py",
   "mimetype": "text/x-python",
   "name": "python",
   "nbconvert_exporter": "python",
   "pygments_lexer": "ipython3",
   "version": "3.10.3"
  },
  "orig_nbformat": 4
 },
 "nbformat": 4,
 "nbformat_minor": 2
}
